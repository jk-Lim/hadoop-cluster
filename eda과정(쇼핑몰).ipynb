{
 "cells": [
  {
   "cell_type": "code",
   "execution_count": 1,
   "id": "eae8bd4a-7ee1-44e6-994b-895fee99b48a",
   "metadata": {},
   "outputs": [],
   "source": [
    "from pyspark.sql import SparkSession"
   ]
  },
  {
   "cell_type": "code",
   "execution_count": 2,
   "id": "8e1ea9ed-fd5c-41f1-84ca-c0dcd983868b",
   "metadata": {},
   "outputs": [
    {
     "data": {
      "text/plain": [
       "pyspark.sql.session.SparkSession"
      ]
     },
     "execution_count": 2,
     "metadata": {},
     "output_type": "execute_result"
    }
   ],
   "source": [
    "SparkSession"
   ]
  },
  {
   "cell_type": "code",
   "execution_count": 4,
   "id": "5068bf97-ab32-4a46-a0a9-bf2a4f72ffca",
   "metadata": {},
   "outputs": [
    {
     "name": "stderr",
     "output_type": "stream",
     "text": [
      "                                                                                \r"
     ]
    }
   ],
   "source": [
    "df = spark.read.option(\"inferSchema\", \"True\").option(\"header\", \"True\").csv(\"/shop/workspace/2019-Nov.csv\")"
   ]
  },
  {
   "cell_type": "code",
   "execution_count": 5,
   "id": "05ba6af1-828e-476c-88f1-a729bf99c35f",
   "metadata": {},
   "outputs": [
    {
     "name": "stderr",
     "output_type": "stream",
     "text": [
      "                                                                                \r"
     ]
    }
   ],
   "source": [
    "df1 = spark.read.option(\"inferSchema\", \"True\").option(\"header\", \"True\").csv(\"/shop/workspace/2019-Oct.csv\")"
   ]
  },
  {
   "cell_type": "code",
   "execution_count": 6,
   "id": "cf6488bf-ee9e-4113-ae20-96550d2cfb65",
   "metadata": {},
   "outputs": [],
   "source": [
    "result_df = df.union(df1)"
   ]
  },
  {
   "cell_type": "code",
   "execution_count": 9,
   "id": "534d86e1-afe3-41de-97fd-bc4eb3e36263",
   "metadata": {},
   "outputs": [
    {
     "name": "stdout",
     "output_type": "stream",
     "text": [
      "root\n",
      " |-- event_time: string (nullable = true)\n",
      " |-- event_type: string (nullable = true)\n",
      " |-- product_id: integer (nullable = true)\n",
      " |-- category_id: long (nullable = true)\n",
      " |-- category_code: string (nullable = true)\n",
      " |-- brand: string (nullable = true)\n",
      " |-- price: double (nullable = true)\n",
      " |-- user_id: integer (nullable = true)\n",
      " |-- user_session: string (nullable = true)\n",
      "\n"
     ]
    }
   ],
   "source": [
    "result_df.printSchema()"
   ]
  },
  {
   "cell_type": "code",
   "execution_count": 10,
   "id": "00314505-6e69-423e-aae4-2340fcdf8c3f",
   "metadata": {},
   "outputs": [
    {
     "name": "stdout",
     "output_type": "stream",
     "text": [
      "+--------------------+----------+----------+-------------------+--------------------+--------+------+---------+--------------------+\n",
      "|          event_time|event_type|product_id|        category_id|       category_code|   brand| price|  user_id|        user_session|\n",
      "+--------------------+----------+----------+-------------------+--------------------+--------+------+---------+--------------------+\n",
      "|2019-11-01 00:00:...|      view|   1003461|2053013555631882655|electronics.smart...|  xiaomi|489.07|520088904|4d3b30da-a5e4-49d...|\n",
      "|2019-11-01 00:00:...|      view|   5000088|2053013566100866035|appliances.sewing...|  janome|293.65|530496790|8e5f4f83-366c-4f7...|\n",
      "|2019-11-01 00:00:...|      view|  17302664|2053013553853497655|                null|   creed| 28.31|561587266|755422e7-9040-477...|\n",
      "|2019-11-01 00:00:...|      view|   3601530|2053013563810775923|appliances.kitche...|      lg|712.87|518085591|3bfb58cd-7892-48c...|\n",
      "|2019-11-01 00:00:...|      view|   1004775|2053013555631882655|electronics.smart...|  xiaomi|183.27|558856683|313628f1-68b8-460...|\n",
      "|2019-11-01 00:00:...|      view|   1306894|2053013558920217191|  computers.notebook|      hp|360.09|520772685|816a59f3-f5ae-4cc...|\n",
      "|2019-11-01 00:00:...|      view|   1306421|2053013558920217191|  computers.notebook|      hp|514.56|514028527|df8184cc-3694-454...|\n",
      "|2019-11-01 00:00:...|      view|  15900065|2053013558190408249|                null| rondell| 30.86|518574284|5e6ef132-4d7c-473...|\n",
      "|2019-11-01 00:00:...|      view|  12708937|2053013553559896355|                null|michelin| 72.72|532364121|0a899268-31eb-46d...|\n",
      "|2019-11-01 00:00:...|      view|   1004258|2053013555631882655|electronics.smart...|   apple|732.07|532647354|d2d3d2c6-631d-489...|\n",
      "|2019-11-01 00:00:...|      view|  17200570|2053013559792632471|furniture.living_...|    null|437.33|518780843|aa806835-b14c-45a...|\n",
      "|2019-11-01 00:00:...|      view|   2701517|2053013563911439225|appliances.kitche...|    null|155.11|518427361|c89b0d96-247f-404...|\n",
      "|2019-11-01 00:00:...|      view|  16700260|2053013559901684381|furniture.kitchen...|    null| 31.64|566255262|173d7b72-1db7-463...|\n",
      "|2019-11-01 00:00:...|      view|  34600011|2060981320581906480|                null|    null| 20.54|512416379|4dfe2c67-e537-4dc...|\n",
      "|2019-11-01 00:00:...|      view|   4600658|2053013563944993659|appliances.kitche...| samsung|411.83|526595547|aab33a9a-29c3-4d5...|\n",
      "|2019-11-01 00:00:...|      view|  24900193|2053013562183385881|                null|    null|  1.09|512651494|f603c815-f51a-46f...|\n",
      "|2019-11-01 00:00:...|      view|  27400066|2053013563391345499|                null|    null|  8.55|551061950|3f6112f1-5695-4e8...|\n",
      "|2019-11-01 00:00:...|      view|   5100503|2053013553375346967|                null|  xiaomi| 22.68|520037415|f54fa96a-f3f2-43a...|\n",
      "|2019-11-01 00:00:...|      view|   1004566|2053013555631882655|electronics.smart...|  huawei|164.84|566265908|52c2c76c-b79e-479...|\n",
      "|2019-11-01 00:00:...|      view|   1307115|2053013558920217191|  computers.notebook|      hp|411.59|514028527|df8184cc-3694-454...|\n",
      "+--------------------+----------+----------+-------------------+--------------------+--------+------+---------+--------------------+\n",
      "only showing top 20 rows\n",
      "\n"
     ]
    }
   ],
   "source": [
    "result_df.show()"
   ]
  },
  {
   "cell_type": "code",
   "execution_count": 14,
   "id": "e9d3d9f3-8d3d-463d-a9f0-46f03f1ce5d0",
   "metadata": {},
   "outputs": [
    {
     "name": "stdout",
     "output_type": "stream",
     "text": [
      "+--------------------+----------+----------+-------------------+--------------------+--------+------+---------+--------------------+--------------+---------------------+--------------+\n",
      "|          event_time|event_type|product_id|        category_id|       category_code|   brand| price|  user_id|        user_session|major_category|intermediate_category|minor_category|\n",
      "+--------------------+----------+----------+-------------------+--------------------+--------+------+---------+--------------------+--------------+---------------------+--------------+\n",
      "|2019-11-01 00:00:...|      view|   1003461|2053013555631882655|electronics.smart...|  xiaomi|489.07|520088904|4d3b30da-a5e4-49d...|   electronics|           smartphone|          null|\n",
      "|2019-11-01 00:00:...|      view|   5000088|2053013566100866035|appliances.sewing...|  janome|293.65|530496790|8e5f4f83-366c-4f7...|    appliances|       sewing_machine|          null|\n",
      "|2019-11-01 00:00:...|      view|  17302664|2053013553853497655|                null|   creed| 28.31|561587266|755422e7-9040-477...|          null|                 null|          null|\n",
      "|2019-11-01 00:00:...|      view|   3601530|2053013563810775923|appliances.kitche...|      lg|712.87|518085591|3bfb58cd-7892-48c...|    appliances|              kitchen|        washer|\n",
      "|2019-11-01 00:00:...|      view|   1004775|2053013555631882655|electronics.smart...|  xiaomi|183.27|558856683|313628f1-68b8-460...|   electronics|           smartphone|          null|\n",
      "|2019-11-01 00:00:...|      view|   1306894|2053013558920217191|  computers.notebook|      hp|360.09|520772685|816a59f3-f5ae-4cc...|     computers|             notebook|          null|\n",
      "|2019-11-01 00:00:...|      view|   1306421|2053013558920217191|  computers.notebook|      hp|514.56|514028527|df8184cc-3694-454...|     computers|             notebook|          null|\n",
      "|2019-11-01 00:00:...|      view|  15900065|2053013558190408249|                null| rondell| 30.86|518574284|5e6ef132-4d7c-473...|          null|                 null|          null|\n",
      "|2019-11-01 00:00:...|      view|  12708937|2053013553559896355|                null|michelin| 72.72|532364121|0a899268-31eb-46d...|          null|                 null|          null|\n",
      "|2019-11-01 00:00:...|      view|   1004258|2053013555631882655|electronics.smart...|   apple|732.07|532647354|d2d3d2c6-631d-489...|   electronics|           smartphone|          null|\n",
      "|2019-11-01 00:00:...|      view|  17200570|2053013559792632471|furniture.living_...|    null|437.33|518780843|aa806835-b14c-45a...|     furniture|          living_room|          sofa|\n",
      "|2019-11-01 00:00:...|      view|   2701517|2053013563911439225|appliances.kitche...|    null|155.11|518427361|c89b0d96-247f-404...|    appliances|              kitchen| refrigerators|\n",
      "|2019-11-01 00:00:...|      view|  16700260|2053013559901684381|furniture.kitchen...|    null| 31.64|566255262|173d7b72-1db7-463...|     furniture|              kitchen|         chair|\n",
      "|2019-11-01 00:00:...|      view|  34600011|2060981320581906480|                null|    null| 20.54|512416379|4dfe2c67-e537-4dc...|          null|                 null|          null|\n",
      "|2019-11-01 00:00:...|      view|   4600658|2053013563944993659|appliances.kitche...| samsung|411.83|526595547|aab33a9a-29c3-4d5...|    appliances|              kitchen|    dishwasher|\n",
      "|2019-11-01 00:00:...|      view|  24900193|2053013562183385881|                null|    null|  1.09|512651494|f603c815-f51a-46f...|          null|                 null|          null|\n",
      "|2019-11-01 00:00:...|      view|  27400066|2053013563391345499|                null|    null|  8.55|551061950|3f6112f1-5695-4e8...|          null|                 null|          null|\n",
      "|2019-11-01 00:00:...|      view|   5100503|2053013553375346967|                null|  xiaomi| 22.68|520037415|f54fa96a-f3f2-43a...|          null|                 null|          null|\n",
      "|2019-11-01 00:00:...|      view|   1004566|2053013555631882655|electronics.smart...|  huawei|164.84|566265908|52c2c76c-b79e-479...|   electronics|           smartphone|          null|\n",
      "|2019-11-01 00:00:...|      view|   1307115|2053013558920217191|  computers.notebook|      hp|411.59|514028527|df8184cc-3694-454...|     computers|             notebook|          null|\n",
      "+--------------------+----------+----------+-------------------+--------------------+--------+------+---------+--------------------+--------------+---------------------+--------------+\n",
      "only showing top 20 rows\n",
      "\n"
     ]
    }
   ],
   "source": [
    "from pyspark.sql.functions import split, col\n",
    "\n",
    "# DataFrame의 category_code 칼럼을 대, 중, 소 분류로 분할\n",
    "shop = result_df.withColumn(\"category_list\", split(col(\"category_code\"), \"\\.\"))\n",
    "\n",
    "# 대분류, 중분류, 소분류 칼럼 생성\n",
    "shop = shop.withColumn(\"major_category\", col(\"category_list\")[0])\n",
    "shop = shop.withColumn(\"intermediate_category\", col(\"category_list\")[1])\n",
    "shop = shop.withColumn(\"minor_category\", col(\"category_list\")[2])\n",
    "\n",
    "# 중복되는 칼럼 제거\n",
    "shop = shop.drop(\"category_list\")\n",
    "# 결과 확인\n",
    "shop.show()\n"
   ]
  },
  {
   "cell_type": "code",
   "execution_count": 15,
   "id": "de46e55d-e189-4c7a-b85c-481ec1752e59",
   "metadata": {},
   "outputs": [
    {
     "data": {
      "text/plain": [
       "pyspark.sql.dataframe.DataFrame"
      ]
     },
     "execution_count": 15,
     "metadata": {},
     "output_type": "execute_result"
    }
   ],
   "source": [
    "type(shop)"
   ]
  },
  {
   "cell_type": "code",
   "execution_count": 16,
   "id": "443e8996-21e2-4346-b8e4-0a539cd6d692",
   "metadata": {},
   "outputs": [],
   "source": [
    "shop = shop.filter(col(\"category_code\").isNotNull())"
   ]
  },
  {
   "cell_type": "code",
   "execution_count": 18,
   "id": "6bbb0b26-7d5f-46f2-ba42-9a46b1a52c99",
   "metadata": {},
   "outputs": [
    {
     "name": "stderr",
     "output_type": "stream",
     "text": [
      "                                                                                \r"
     ]
    },
    {
     "data": {
      "text/plain": [
       "73577292"
      ]
     },
     "execution_count": 18,
     "metadata": {},
     "output_type": "execute_result"
    }
   ],
   "source": [
    "shop.count()"
   ]
  },
  {
   "cell_type": "code",
   "execution_count": 20,
   "id": "7d239432-1fa2-4b6b-a523-6e9e6ebb51a0",
   "metadata": {},
   "outputs": [
    {
     "name": "stdout",
     "output_type": "stream",
     "text": [
      "Collecting matplotlib\n",
      "  Downloading matplotlib-3.7.2-cp38-cp38-manylinux_2_12_x86_64.manylinux2010_x86_64.whl (9.2 MB)\n",
      "\u001b[K     |████████████████████████████████| 9.2 MB 12.9 MB/s eta 0:00:01\n",
      "\u001b[?25hRequirement already satisfied: packaging>=20.0 in /home/hadoop/.local/lib/python3.8/site-packages (from matplotlib) (23.1)\n",
      "Requirement already satisfied: importlib-resources>=3.2.0; python_version < \"3.10\" in /home/hadoop/.local/lib/python3.8/site-packages (from matplotlib) (6.0.1)\n",
      "Collecting pyparsing<3.1,>=2.3.1\n",
      "  Downloading pyparsing-3.0.9-py3-none-any.whl (98 kB)\n",
      "\u001b[K     |████████████████████████████████| 98 kB 9.9 MB/s  eta 0:00:01\n",
      "\u001b[?25hCollecting fonttools>=4.22.0\n",
      "  Downloading fonttools-4.42.1-cp38-cp38-manylinux_2_17_x86_64.manylinux2014_x86_64.whl (4.6 MB)\n",
      "\u001b[K     |████████████████████████████████| 4.6 MB 36.6 MB/s eta 0:00:01\n",
      "\u001b[?25hCollecting cycler>=0.10\n",
      "  Downloading cycler-0.11.0-py3-none-any.whl (6.4 kB)\n",
      "Collecting numpy>=1.20\n",
      "  Downloading numpy-1.24.4-cp38-cp38-manylinux_2_17_x86_64.manylinux2014_x86_64.whl (17.3 MB)\n",
      "\u001b[K     |████████████████████████████████| 17.3 MB 42.4 MB/s eta 0:00:01\n",
      "\u001b[?25hCollecting pillow>=6.2.0\n",
      "  Downloading Pillow-10.0.0-cp38-cp38-manylinux_2_17_x86_64.manylinux2014_x86_64.whl (3.3 MB)\n",
      "\u001b[K     |████████████████████████████████| 3.3 MB 35.7 MB/s eta 0:00:01\n",
      "\u001b[?25hRequirement already satisfied: python-dateutil>=2.7 in /home/hadoop/.local/lib/python3.8/site-packages (from matplotlib) (2.8.2)\n",
      "Collecting contourpy>=1.0.1\n",
      "  Downloading contourpy-1.1.0-cp38-cp38-manylinux_2_17_x86_64.manylinux2014_x86_64.whl (300 kB)\n",
      "\u001b[K     |████████████████████████████████| 300 kB 40.2 MB/s eta 0:00:01\n",
      "\u001b[?25hCollecting kiwisolver>=1.0.1\n",
      "  Downloading kiwisolver-1.4.5-cp38-cp38-manylinux_2_5_x86_64.manylinux1_x86_64.whl (1.2 MB)\n",
      "\u001b[K     |████████████████████████████████| 1.2 MB 37.6 MB/s eta 0:00:01\n",
      "\u001b[?25hRequirement already satisfied: zipp>=3.1.0; python_version < \"3.10\" in /home/hadoop/.local/lib/python3.8/site-packages (from importlib-resources>=3.2.0; python_version < \"3.10\"->matplotlib) (3.16.2)\n",
      "Requirement already satisfied: six>=1.5 in /usr/lib/python3/dist-packages (from python-dateutil>=2.7->matplotlib) (1.14.0)\n",
      "Installing collected packages: pyparsing, fonttools, cycler, numpy, pillow, contourpy, kiwisolver, matplotlib\n",
      "Successfully installed contourpy-1.1.0 cycler-0.11.0 fonttools-4.42.1 kiwisolver-1.4.5 matplotlib-3.7.2 numpy-1.24.4 pillow-10.0.0 pyparsing-3.0.9\n",
      "Note: you may need to restart the kernel to use updated packages.\n"
     ]
    }
   ],
   "source": [
    "pip install matplotlib"
   ]
  },
  {
   "cell_type": "code",
   "execution_count": 24,
   "id": "f66c5a88-3681-4898-9cb6-6c6bf655a8dd",
   "metadata": {},
   "outputs": [
    {
     "name": "stdout",
     "output_type": "stream",
     "text": [
      "Collecting pandas\n",
      "  Downloading pandas-2.0.3-cp38-cp38-manylinux_2_17_x86_64.manylinux2014_x86_64.whl (12.4 MB)\n",
      "\u001b[K     |████████████████████████████████| 12.4 MB 18.2 MB/s eta 0:00:01\n",
      "\u001b[?25hRequirement already satisfied, skipping upgrade: python-dateutil>=2.8.2 in /home/hadoop/.local/lib/python3.8/site-packages (from pandas) (2.8.2)\n",
      "Requirement already satisfied, skipping upgrade: numpy>=1.20.3; python_version < \"3.10\" in /home/hadoop/.local/lib/python3.8/site-packages (from pandas) (1.24.4)\n",
      "Requirement already satisfied, skipping upgrade: pytz>=2020.1 in /home/hadoop/.local/lib/python3.8/site-packages (from pandas) (2023.3)\n",
      "Collecting tzdata>=2022.1\n",
      "  Downloading tzdata-2023.3-py2.py3-none-any.whl (341 kB)\n",
      "\u001b[K     |████████████████████████████████| 341 kB 34.4 MB/s eta 0:00:01\n",
      "\u001b[?25hRequirement already satisfied, skipping upgrade: six>=1.5 in /usr/lib/python3/dist-packages (from python-dateutil>=2.8.2->pandas) (1.14.0)\n",
      "Installing collected packages: tzdata, pandas\n",
      "Successfully installed pandas-2.0.3 tzdata-2023.3\n",
      "Note: you may need to restart the kernel to use updated packages.\n"
     ]
    }
   ],
   "source": [
    "pip install --upgrade pandas\n"
   ]
  },
  {
   "cell_type": "code",
   "execution_count": 28,
   "id": "3f075ea4-2d67-4488-b369-9aac8116aaed",
   "metadata": {},
   "outputs": [],
   "source": [
    "shop.createOrReplaceTempView(\"shop\")"
   ]
  },
  {
   "cell_type": "code",
   "execution_count": 29,
   "id": "fb15f333-d9ce-4158-8825-be19b908459e",
   "metadata": {},
   "outputs": [],
   "source": [
    "query = \"\"\"\n",
    "SELECT major_category, count(*) AS cnt\n",
    "FROM shop\n",
    "WHERE event_type = 'purchase'\n",
    "GROUP BY major_category\n",
    "ORDER BY CNT DESC\n",
    "LIMIT 10\n",
    "\"\"\"\n",
    "\n",
    "shop1 = spark.sql(query)"
   ]
  },
  {
   "cell_type": "code",
   "execution_count": 30,
   "id": "1502e3fb-7232-4146-992f-3f3fca0237b6",
   "metadata": {},
   "outputs": [
    {
     "name": "stderr",
     "output_type": "stream",
     "text": [
      "[Stage 12:=>             (11 + 4) / 109][Stage 13:=>             (11 + 3) / 109]\r"
     ]
    },
    {
     "name": "stdout",
     "output_type": "stream",
     "text": [
      "+--------------+------+\n",
      "|major_category|   cnt|\n",
      "+--------------+------+\n",
      "|   electronics|903859|\n",
      "|    appliances|171786|\n",
      "|     computers| 61400|\n",
      "|       apparel| 21962|\n",
      "|          auto| 21127|\n",
      "|     furniture| 19618|\n",
      "|  construction| 16324|\n",
      "|          kids| 11508|\n",
      "|   accessories|  3697|\n",
      "|         sport|  2687|\n",
      "+--------------+------+\n",
      "\n"
     ]
    },
    {
     "name": "stderr",
     "output_type": "stream",
     "text": [
      "[Stage 12:=>             (11 + 4) / 109][Stage 13:=>             (11 + 3) / 109]\r"
     ]
    }
   ],
   "source": [
    "shop1.show()"
   ]
  },
  {
   "cell_type": "code",
   "execution_count": 31,
   "id": "31681f13-05e1-4e62-b4b0-a32e1da9452f",
   "metadata": {},
   "outputs": [
    {
     "name": "stderr",
     "output_type": "stream",
     "text": [
      "                                                                                \r"
     ]
    },
    {
     "data": {
      "image/png": "[encoded data removed]",
      "text/plain": [
       "<Figure size 640x480 with 1 Axes>"
      ]
     },
     "metadata": {},
     "output_type": "display_data"
    },
    {
     "name": "stderr",
     "output_type": "stream",
     "text": [
      "[Stage 12:=>             (11 + 4) / 109][Stage 13:=>             (11 + 3) / 109]\r"
     ]
    }
   ],
   "source": [
    "import matplotlib.pyplot as plt\n",
    "\n",
    "shop1.toPandas().plot(kind=\"bar\", x=\"major_category\", y=\"cnt\")\n",
    "plt.show()"
   ]
  },
  {
   "cell_type": "code",
   "execution_count": 32,
   "id": "8517ae70-713b-4ae6-8088-aa7a80a406d2",
   "metadata": {},
   "outputs": [],
   "source": [
    "# 쇼핑몰 데이터 중 전자 기기를 판 브랜드 중 가장 높은 브랜드(상위10)는?\n",
    "query = \"\"\"\n",
    "SELECT brand, count(*) AS cnt\n",
    "FROM shop\n",
    "WHERE major_category = 'electronics'\n",
    "GROUP BY brand\n",
    "ORDER BY CNT DESC\n",
    "LIMIT 10\n",
    "\"\"\"\n",
    "\n",
    "shop2 = spark.sql(query)"
   ]
  },
  {
   "cell_type": "code",
   "execution_count": 33,
   "id": "da72cf4f-97ad-4e43-93ec-dbb2dc036d2f",
   "metadata": {},
   "outputs": [
    {
     "name": "stderr",
     "output_type": "stream",
     "text": [
      "[Stage 12:=>             (11 + 4) / 109][Stage 13:=>             (11 + 3) / 109]\r"
     ]
    },
    {
     "name": "stdout",
     "output_type": "stream",
     "text": [
      "+-------+--------+\n",
      "|  brand|     cnt|\n",
      "+-------+--------+\n",
      "|samsung|10990737|\n",
      "|  apple| 9883299|\n",
      "| xiaomi| 6290547|\n",
      "| huawei| 2436474|\n",
      "|   oppo| 1276797|\n",
      "|   null|  715851|\n",
      "|  casio|  612353|\n",
      "|     lg|  553003|\n",
      "|   sony|  542585|\n",
      "|  artel|  454597|\n",
      "+-------+--------+\n",
      "\n"
     ]
    },
    {
     "name": "stderr",
     "output_type": "stream",
     "text": [
      "[Stage 12:=>             (11 + 4) / 109][Stage 13:=>             (11 + 3) / 109]\r"
     ]
    }
   ],
   "source": [
    "shop2.show()"
   ]
  },
  {
   "cell_type": "code",
   "execution_count": 40,
   "id": "db98bbd4-42a0-4256-b150-e25ea3c0b0b1",
   "metadata": {},
   "outputs": [
    {
     "name": "stderr",
     "output_type": "stream",
     "text": [
      "                                                                                \r"
     ]
    },
    {
     "data": {
      "image/png": "[encoded data removed]",
      "text/plain": [
       "<Figure size 640x480 with 1 Axes>"
      ]
     },
     "metadata": {},
     "output_type": "display_data"
    },
    {
     "name": "stderr",
     "output_type": "stream",
     "text": [
      "[Stage 12:=>             (11 + 4) / 109][Stage 13:=>             (11 + 3) / 109]\r"
     ]
    }
   ],
   "source": [
    "import matplotlib.pyplot as plt\n",
    "\n",
    "shop2.toPandas().plot(kind=\"bar\", x=\"brand\", y=\"cnt\")\n",
    "plt.show()"
   ]
  },
  {
   "cell_type": "code",
   "execution_count": 41,
   "id": "eec84a84-b4e3-493f-8609-73f3aafb9567",
   "metadata": {},
   "outputs": [],
   "source": [
    "# 뷰에서 카트로 넘어가는 전환율\n",
    "query = \"\"\"\n",
    "SELECT\n",
    "    SUM(CASE WHEN event_type = 'cart' THEN 1 ELSE 0 END) AS cart_count,\n",
    "    SUM(CASE WHEN event_type = 'view' THEN 1 ELSE 0 END) AS view_count,\n",
    "    (SUM(CASE WHEN event_type = 'cart' THEN 1 ELSE 0 END) / SUM(CASE WHEN event_type = 'view' THEN 1 ELSE 0 END)) AS cart_to_view_ratio\n",
    "FROM\n",
    "    shop\n",
    "\"\"\"\n",
    "\n",
    "shop3 = spark.sql(query)"
   ]
  },
  {
   "cell_type": "code",
   "execution_count": 42,
   "id": "271ce6e6-a80a-4a63-97a2-71bfd8a30496",
   "metadata": {},
   "outputs": [
    {
     "name": "stderr",
     "output_type": "stream",
     "text": [
      "[Stage 12:>(11 + 4) / 109][Stage 13:>(11 + 3) / 109][Stage 36:(108 + 1) / 109]\r"
     ]
    },
    {
     "name": "stdout",
     "output_type": "stream",
     "text": [
      "+----------+----------+--------------------+\n",
      "|cart_count|view_count|  cart_to_view_ratio|\n",
      "+----------+----------+--------------------+\n",
      "|   2976555|  69365680|0.042911062069888165|\n",
      "+----------+----------+--------------------+\n",
      "\n"
     ]
    },
    {
     "name": "stderr",
     "output_type": "stream",
     "text": [
      "[Stage 12:=>             (11 + 4) / 109][Stage 13:=>             (11 + 3) / 109]\r"
     ]
    }
   ],
   "source": [
    "shop3.show()"
   ]
  },
  {
   "cell_type": "code",
   "execution_count": 43,
   "id": "bbbc78ce-de2c-4c4e-a91a-d0a1eca7fe19",
   "metadata": {},
   "outputs": [],
   "source": [
    "# 카트에서 구매로 넘어가는 전환율\n",
    "query2 = \"\"\"\n",
    "SELECT\n",
    "    SUM(CASE WHEN event_type = 'purchase' THEN 1 ELSE 0 END) AS purchase_count,\n",
    "    SUM(CASE WHEN event_type = 'cart' THEN 1 ELSE 0 END) AS cart_count,\n",
    "    (SUM(CASE WHEN event_type = 'purchase' THEN 1 ELSE 0 END) / SUM(CASE WHEN event_type = 'cart' THEN 1 ELSE 0 END)) AS purchase_to_cart_ratio\n",
    "FROM\n",
    "    shop\n",
    "\"\"\"\n",
    "\n",
    "shop4 = spark.sql(query2)"
   ]
  },
  {
   "cell_type": "code",
   "execution_count": 44,
   "id": "a0be8143-a18b-41a5-b66a-3af7a3c5211b",
   "metadata": {},
   "outputs": [
    {
     "name": "stderr",
     "output_type": "stream",
     "text": [
      "[Stage 12:=>             (11 + 4) / 109][Stage 13:=>             (11 + 3) / 109]\r"
     ]
    },
    {
     "name": "stdout",
     "output_type": "stream",
     "text": [
      "+--------------+----------+----------------------+\n",
      "|purchase_count|cart_count|purchase_to_cart_ratio|\n",
      "+--------------+----------+----------------------+\n",
      "|       1235057|   2976555|   0.41492833157794834|\n",
      "+--------------+----------+----------------------+\n",
      "\n"
     ]
    },
    {
     "name": "stderr",
     "output_type": "stream",
     "text": [
      "[Stage 12:=>             (11 + 4) / 109][Stage 13:=>             (11 + 3) / 109]\r"
     ]
    }
   ],
   "source": [
    "shop4.show()"
   ]
  },
  {
   "cell_type": "code",
   "execution_count": 49,
   "id": "50edfdad-e9ad-47ca-9f37-563c3c48a2ff",
   "metadata": {},
   "outputs": [
    {
     "name": "stderr",
     "output_type": "stream",
     "text": [
      "[Stage 12:=>             (11 + 4) / 109][Stage 13:=>             (11 + 3) / 109]\r"
     ]
    }
   ],
   "source": [
    "query3 = \"\"\"\n",
    "SELECT event_type, count(*) AS CNT\n",
    "FROM shop\n",
    "GROUP BY event_type\n",
    "ORDER BY 2\n",
    "\"\"\"\n",
    "\n",
    "shop5 = spark.sql(query3)"
   ]
  },
  {
   "cell_type": "code",
   "execution_count": 50,
   "id": "affa961f-7711-422b-9a79-e6e5b2009121",
   "metadata": {},
   "outputs": [
    {
     "name": "stderr",
     "output_type": "stream",
     "text": [
      "                                                                                \r"
     ]
    },
    {
     "name": "stdout",
     "output_type": "stream",
     "text": [
      "+----------+--------+\n",
      "|event_type|     CNT|\n",
      "+----------+--------+\n",
      "|  purchase| 1235057|\n",
      "|      cart| 2976555|\n",
      "|      view|69365680|\n",
      "+----------+--------+\n",
      "\n"
     ]
    },
    {
     "name": "stderr",
     "output_type": "stream",
     "text": [
      "[Stage 12:=>             (11 + 4) / 109][Stage 13:=>             (11 + 3) / 109]\r"
     ]
    }
   ],
   "source": [
    "shop5.show()"
   ]
  },
  {
   "cell_type": "code",
   "execution_count": 66,
   "id": "54c1659e-c1b7-4820-be54-9d5dc79d937b",
   "metadata": {},
   "outputs": [
    {
     "name": "stderr",
     "output_type": "stream",
     "text": [
      "                                                                                \r"
     ]
    },
    {
     "data": {
      "image/png": "[encoded data removed]",
      "text/plain": [
       "<Figure size 600x600 with 1 Axes>"
      ]
     },
     "metadata": {},
     "output_type": "display_data"
    },
    {
     "name": "stderr",
     "output_type": "stream",
     "text": [
      "[Stage 12:=>             (11 + 4) / 109][Stage 13:=>             (11 + 3) / 109]\r"
     ]
    }
   ],
   "source": [
    "# 결과를 Pandas DataFrame으로 변환\n",
    "shop5_df = shop5.toPandas()\n",
    "\n",
    "# 파이차트 그리기\n",
    "import matplotlib.pyplot as plt\n",
    "\n",
    "# 데이터 준비\n",
    "labels = shop5_df['event_type']\n",
    "sizes = shop5_df['CNT']\n",
    "colors = ['#ff9999', '#66b3ff', '#99ff99']\n",
    "\n",
    "# 파이차트 그리기\n",
    "plt.figure(figsize=(6, 6))\n",
    "plt.pie(sizes, labels=None, colors=colors, autopct='%1.1f%%', startangle=90, pctdistance=0.85)\n",
    "\n",
    "# 파이차트 라벨 설정 (파이차트 바깥쪽으로 이동)\n",
    "plt.legend(labels, loc='center left', bbox_to_anchor=(1.0, 0.5))\n",
    "\n",
    "# 제목 설정\n",
    "plt.title('Event Type Counts')\n",
    "\n",
    "# 파이차트 표시\n",
    "plt.axis('equal')\n",
    "plt.show()\n"
   ]
  },
  {
   "cell_type": "code",
   "execution_count": 62,
   "id": "3f641497-3ed6-4ca8-92a0-1bc254836a34",
   "metadata": {},
   "outputs": [
    {
     "name": "stderr",
     "output_type": "stream",
     "text": [
      "[Stage 12:>(11 + 4) / 109][Stage 13:>(11 + 3) / 109][Stage 91:(108 + 1) / 109]\r"
     ]
    },
    {
     "name": "stdout",
     "output_type": "stream",
     "text": [
      "+--------------------+-------------------+-------------------+\n",
      "|        view_to_cart|   cart_to_purchase|   view_to_purchase|\n",
      "+--------------------+-------------------+-------------------+\n",
      "|0.042911062069888165|0.41492833157794834|0.01780501539089648|\n",
      "+--------------------+-------------------+-------------------+\n",
      "\n"
     ]
    },
    {
     "name": "stderr",
     "output_type": "stream",
     "text": [
      "[Stage 12:=>             (11 + 4) / 109][Stage 13:=>             (11 + 3) / 109]\r"
     ]
    }
   ],
   "source": [
    "query = \"\"\"\n",
    "SELECT\n",
    "    (SUM(CASE WHEN event_type = 'cart' THEN 1 ELSE 0 END) / SUM(CASE WHEN event_type = 'view' THEN 1 ELSE 0 END)) AS view_to_cart,\n",
    "    (SUM(CASE WHEN event_type = 'purchase' THEN 1 ELSE 0 END) / SUM(CASE WHEN event_type = 'cart' THEN 1 ELSE 0 END)) AS cart_to_purchase,\n",
    "    (SUM(CASE WHEN event_type = 'purchase' THEN 1 ELSE 0 END) / SUM(CASE WHEN event_type = 'view' THEN 1 ELSE 0 END)) AS view_to_purchase\n",
    "FROM\n",
    "    shop\n",
    "WHERE\n",
    "    event_type IN ('view', 'cart', 'purchase')\n",
    "\"\"\"\n",
    "\n",
    "shop_ratios = spark.sql(query)\n",
    "shop_ratios.show()"
   ]
  },
  {
   "cell_type": "code",
   "execution_count": 65,
   "id": "0895b9f5-d5c7-45e3-9091-e7bf51b0f13e",
   "metadata": {},
   "outputs": [
    {
     "data": {
      "image/png": "[encoded data removed]",
      "text/plain": [
       "<Figure size 600x600 with 1 Axes>"
      ]
     },
     "metadata": {},
     "output_type": "display_data"
    },
    {
     "name": "stderr",
     "output_type": "stream",
     "text": [
      "[Stage 12:=>             (11 + 4) / 109][Stage 13:=>             (11 + 3) / 109]\r"
     ]
    }
   ],
   "source": [
    "import matplotlib.pyplot as plt\n",
    "\n",
    "# 파이차트 데이터\n",
    "labels = ['View to Cart', 'Cart to Purchase', 'View to Purchase']\n",
    "sizes = shop_ratios_df.iloc[0].values\n",
    "colors = ['#ff9999', '#66b3ff', '#99ff99']\n",
    "\n",
    "# 파이차트 그리기\n",
    "plt.figure(figsize=(6, 6))\n",
    "plt.pie(sizes, labels=None, colors=colors, autopct='%1.1f%%', startangle=90, pctdistance=0.85)\n",
    "\n",
    "# 파이차트 라벨 설정 (파이차트 바깥쪽으로 이동)\n",
    "plt.legend(labels, loc='center left', bbox_to_anchor=(1.0, 0.5))\n",
    "\n",
    "# 제목 설정\n",
    "plt.title('Event Conversion Ratios')\n",
    "\n",
    "# 파이차트 표시\n",
    "plt.axis('equal')\n",
    "plt.show()\n"
   ]
  }
 ],
 "metadata": {
  "kernelspec": {
   "display_name": "Python 3 (ipykernel)",
   "language": "python",
   "name": "python3"
  },
  "language_info": {
   "codemirror_mode": {
    "name": "ipython",
    "version": 3
   },
   "file_extension": ".py",
   "mimetype": "text/x-python",
   "name": "python",
   "nbconvert_exporter": "python",
   "pygments_lexer": "ipython3",
   "version": "3.8.10"
  }
 },
 "nbformat": 4,
 "nbformat_minor": 5
}
